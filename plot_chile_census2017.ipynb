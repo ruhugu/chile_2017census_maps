{
 "cells": [
  {
   "cell_type": "code",
   "execution_count": 1,
   "metadata": {},
   "outputs": [
    {
     "name": "stderr",
     "output_type": "stream",
     "text": [
      "/home/ruben/anaconda3/lib/python3.9/site-packages/pandas/core/computation/expressions.py:21: UserWarning: Pandas requires version '2.8.4' or newer of 'numexpr' (version '2.8.1' currently installed).\n",
      "  from pandas.core.computation.check import NUMEXPR_INSTALLED\n",
      "/home/ruben/anaconda3/lib/python3.9/site-packages/pandas/core/arrays/masked.py:60: UserWarning: Pandas requires version '1.3.6' or newer of 'bottleneck' (version '1.3.4' currently installed).\n",
      "  from pandas.core import (\n"
     ]
    }
   ],
   "source": [
    "import numpy as np\n",
    "import geopandas as gpd\n",
    "import pandas as pd\n",
    "from matplotlib import pyplot as plt\n",
    "import os"
   ]
  },
  {
   "cell_type": "code",
   "execution_count": 4,
   "metadata": {},
   "outputs": [
    {
     "name": "stdout",
     "output_type": "stream",
     "text": [
      "WARNING *** file size (9789312) not 512 + multiple of sector size (512)\n"
     ]
    }
   ],
   "source": [
    "# Read files\n",
    "# ======================\n",
    "folder = \"data\"\n",
    "# Read geopandas file\n",
    "gdf = gpd.read_file(os.path.join(folder, \"comunas.geojson\"))\n",
    "\n",
    "# Read 2017 census file\n",
    "census_full_df = pd.read_excel(\n",
    "        os.path.join(folder, \"CENSO2017_POBLACION.xls\"), sheet_name=\"Comuna\",\n",
    "        header=2, index_col=\"ORDEN\", usecols=lambda colname: \"Unnamed\" not in colname,)"
   ]
  },
  {
   "cell_type": "code",
   "execution_count": 5,
   "metadata": {},
   "outputs": [],
   "source": [
    "# Prepare dataframes\n",
    "# ====================\n",
    "# Keep only total population in each comuna\n",
    "census_df = census_full_df[census_full_df[\"EDAD\"] == \"Total Comuna\"]\n",
    "\n",
    "# Change Comuna names to upper case to do a merge\n",
    "gdf[\"Comuna\"] = gdf[\"Comuna\"].apply(lambda x: x.upper())\n",
    "\n",
    "# Fix name differences\n",
    "gdf.loc[gdf['Comuna'] == \"MARCHIGÜE\", \"Comuna\"] = \"MARCHIHUE\"\n",
    "gdf.loc[gdf['Comuna'] == \"LOS ALAMOS\", \"Comuna\"] = \"LOS ÁLAMOS\"\n",
    "gdf.loc[gdf['Comuna'] == \"LOS ANGELES\", \"Comuna\"] = \"LOS ÁNGELES\"\n",
    "gdf.loc[gdf['Comuna'] == \"PAIHUANO\", \"Comuna\"] = \"PAIGUANO\"\n",
    "gdf.loc[gdf['Comuna'] == \"RANQUIL\", \"Comuna\"] = \"RÁNQUIL\"\n",
    "\n",
    "# Remove \"Zona sin demarcar\" row\n",
    "gdf.drop(gdf[gdf[\"Region\"] == \"Zona sin demarcar\"].index, inplace=True)\n",
    "\n",
    "# Join dataframes\n",
    "gdf_census = gdf.merge(census_df, left_on='Comuna', right_on=\"NOMBRE COMUNA\", how='left', indicator=True) \n",
    "\n",
    "\n",
    "# Calculate data of interest\n",
    "# ==============================\n",
    "# Population (in miles)\n",
    "gdf_census[\"TOTAL (MILES)\"] =  gdf_census[\"TOTAL POBLACIÓN EFECTIVAMENTE CENSADA\"]/1000\n",
    "\n",
    "# Calculate population density\n",
    "gdf_census = gdf_census.to_crs({'proj':'cea'}) \n",
    "gdf_census[\"AREA\"] = gdf_census[\"geometry\"].area / 10**6 # In km^2\n",
    "gdf_census[\"DENSIDAD POBLACION\"] = gdf_census[\"TOTAL POBLACIÓN EFECTIVAMENTE CENSADA\"]/gdf_census[\"AREA\"] # \n",
    "\n",
    "# Calculate mean age\n",
    "def calc_mean_age(name):\n",
    "    filtered_df = census_full_df[\n",
    "            (census_full_df[\"NOMBRE COMUNA\"] == name)\n",
    "            & census_full_df[\"EDAD\"].apply(lambda x: \"Total\" not in x)]\n",
    "    filtered_df.loc[filtered_df[\"EDAD\"] == \"100 o más\", \"EDAD\"] = 100\n",
    "    try:\n",
    "        return np.average(filtered_df[\"EDAD\"].astype(int), weights=filtered_df[\"TOTAL POBLACIÓN EFECTIVAMENTE CENSADA\"])\n",
    "    except ZeroDivisionError:\n",
    "        return 0\n",
    "gdf_census[\"EDAD MEDIA\"] = gdf_census[\"Comuna\"].apply(calc_mean_age)\n",
    "\n",
    "# Calculate sex ratio (male population/female population)\n",
    "gdf_census[\"URBANO-RURAL\"] = gdf_census[\"TOTAL ÁREA URBANA\"]/gdf_census[\"TOTAL POBLACIÓN EFECTIVAMENTE CENSADA\"]"
   ]
  },
  {
   "cell_type": "code",
   "execution_count": 6,
   "metadata": {
    "tags": []
   },
   "outputs": [
    {
     "ename": "DriverError",
     "evalue": "ne_10m_admin_0_countries.shp: No such file or directory",
     "output_type": "error",
     "traceback": [
      "\u001b[0;31m---------------------------------------------------------------------------\u001b[0m",
      "\u001b[0;31mCPLE_OpenFailedError\u001b[0m                      Traceback (most recent call last)",
      "\u001b[0;32mfiona/ogrext.pyx\u001b[0m in \u001b[0;36mfiona.ogrext.gdal_open_vector\u001b[0;34m()\u001b[0m\n",
      "\u001b[0;32mfiona/_err.pyx\u001b[0m in \u001b[0;36mfiona._err.exc_wrap_pointer\u001b[0;34m()\u001b[0m\n",
      "\u001b[0;31mCPLE_OpenFailedError\u001b[0m: ne_10m_admin_0_countries.shp: No such file or directory",
      "\nDuring handling of the above exception, another exception occurred:\n",
      "\u001b[0;31mDriverError\u001b[0m                               Traceback (most recent call last)",
      "\u001b[0;32m<ipython-input-6-184ea1e68d02>\u001b[0m in \u001b[0;36m<module>\u001b[0;34m\u001b[0m\n\u001b[1;32m     15\u001b[0m \u001b[0mgdf_census\u001b[0m \u001b[0;34m=\u001b[0m \u001b[0mgdf_census\u001b[0m\u001b[0;34m.\u001b[0m\u001b[0mto_crs\u001b[0m\u001b[0;34m(\u001b[0m\u001b[0mepsg\u001b[0m\u001b[0;34m=\u001b[0m\u001b[0;36m900913\u001b[0m\u001b[0;34m)\u001b[0m \u001b[0;31m# Use Mercator projection\u001b[0m\u001b[0;34m\u001b[0m\u001b[0;34m\u001b[0m\u001b[0m\n\u001b[1;32m     16\u001b[0m \u001b[0;31m# Base world map\u001b[0m\u001b[0;34m\u001b[0m\u001b[0;34m\u001b[0m\u001b[0m\n\u001b[0;32m---> 17\u001b[0;31m \u001b[0mworld\u001b[0m \u001b[0;34m=\u001b[0m \u001b[0mgpd\u001b[0m\u001b[0;34m.\u001b[0m\u001b[0mread_file\u001b[0m\u001b[0;34m(\u001b[0m\u001b[0;34m\"ne_10m_admin_0_countries.shp\"\u001b[0m\u001b[0;34m)\u001b[0m\u001b[0;34m\u001b[0m\u001b[0;34m\u001b[0m\u001b[0m\n\u001b[0m\u001b[1;32m     18\u001b[0m \u001b[0mworld\u001b[0m \u001b[0;34m=\u001b[0m \u001b[0mworld\u001b[0m\u001b[0;34m.\u001b[0m\u001b[0mto_crs\u001b[0m\u001b[0;34m(\u001b[0m\u001b[0mgdf_census\u001b[0m\u001b[0;34m.\u001b[0m\u001b[0mcrs\u001b[0m\u001b[0;34m)\u001b[0m\u001b[0;34m\u001b[0m\u001b[0;34m\u001b[0m\u001b[0m\n\u001b[1;32m     19\u001b[0m \u001b[0;34m\u001b[0m\u001b[0m\n",
      "\u001b[0;32m~/anaconda3/lib/python3.9/site-packages/geopandas/io/file.py\u001b[0m in \u001b[0;36m_read_file\u001b[0;34m(filename, bbox, mask, rows, engine, **kwargs)\u001b[0m\n\u001b[1;32m    295\u001b[0m             \u001b[0mpath_or_bytes\u001b[0m \u001b[0;34m=\u001b[0m \u001b[0mfilename\u001b[0m\u001b[0;34m\u001b[0m\u001b[0;34m\u001b[0m\u001b[0m\n\u001b[1;32m    296\u001b[0m \u001b[0;34m\u001b[0m\u001b[0m\n\u001b[0;32m--> 297\u001b[0;31m         return _read_file_fiona(\n\u001b[0m\u001b[1;32m    298\u001b[0m             \u001b[0mpath_or_bytes\u001b[0m\u001b[0;34m,\u001b[0m \u001b[0mfrom_bytes\u001b[0m\u001b[0;34m,\u001b[0m \u001b[0mbbox\u001b[0m\u001b[0;34m=\u001b[0m\u001b[0mbbox\u001b[0m\u001b[0;34m,\u001b[0m \u001b[0mmask\u001b[0m\u001b[0;34m=\u001b[0m\u001b[0mmask\u001b[0m\u001b[0;34m,\u001b[0m \u001b[0mrows\u001b[0m\u001b[0;34m=\u001b[0m\u001b[0mrows\u001b[0m\u001b[0;34m,\u001b[0m \u001b[0;34m**\u001b[0m\u001b[0mkwargs\u001b[0m\u001b[0;34m\u001b[0m\u001b[0;34m\u001b[0m\u001b[0m\n\u001b[1;32m    299\u001b[0m         )\n",
      "\u001b[0;32m~/anaconda3/lib/python3.9/site-packages/geopandas/io/file.py\u001b[0m in \u001b[0;36m_read_file_fiona\u001b[0;34m(path_or_bytes, from_bytes, bbox, mask, rows, where, **kwargs)\u001b[0m\n\u001b[1;32m    336\u001b[0m \u001b[0;34m\u001b[0m\u001b[0m\n\u001b[1;32m    337\u001b[0m     \u001b[0;32mwith\u001b[0m \u001b[0mfiona_env\u001b[0m\u001b[0;34m(\u001b[0m\u001b[0;34m)\u001b[0m\u001b[0;34m:\u001b[0m\u001b[0;34m\u001b[0m\u001b[0;34m\u001b[0m\u001b[0m\n\u001b[0;32m--> 338\u001b[0;31m         \u001b[0;32mwith\u001b[0m \u001b[0mreader\u001b[0m\u001b[0;34m(\u001b[0m\u001b[0mpath_or_bytes\u001b[0m\u001b[0;34m,\u001b[0m \u001b[0;34m**\u001b[0m\u001b[0mkwargs\u001b[0m\u001b[0;34m)\u001b[0m \u001b[0;32mas\u001b[0m \u001b[0mfeatures\u001b[0m\u001b[0;34m:\u001b[0m\u001b[0;34m\u001b[0m\u001b[0;34m\u001b[0m\u001b[0m\n\u001b[0m\u001b[1;32m    339\u001b[0m             \u001b[0mcrs\u001b[0m \u001b[0;34m=\u001b[0m \u001b[0mfeatures\u001b[0m\u001b[0;34m.\u001b[0m\u001b[0mcrs_wkt\u001b[0m\u001b[0;34m\u001b[0m\u001b[0;34m\u001b[0m\u001b[0m\n\u001b[1;32m    340\u001b[0m             \u001b[0;31m# attempt to get EPSG code\u001b[0m\u001b[0;34m\u001b[0m\u001b[0;34m\u001b[0m\u001b[0m\n",
      "\u001b[0;32m~/anaconda3/lib/python3.9/site-packages/fiona/env.py\u001b[0m in \u001b[0;36mwrapper\u001b[0;34m(*args, **kwds)\u001b[0m\n\u001b[1;32m    455\u001b[0m \u001b[0;34m\u001b[0m\u001b[0m\n\u001b[1;32m    456\u001b[0m         \u001b[0;32mwith\u001b[0m \u001b[0menv_ctor\u001b[0m\u001b[0;34m(\u001b[0m\u001b[0msession\u001b[0m\u001b[0;34m=\u001b[0m\u001b[0msession\u001b[0m\u001b[0;34m)\u001b[0m\u001b[0;34m:\u001b[0m\u001b[0;34m\u001b[0m\u001b[0;34m\u001b[0m\u001b[0m\n\u001b[0;32m--> 457\u001b[0;31m             \u001b[0;32mreturn\u001b[0m \u001b[0mf\u001b[0m\u001b[0;34m(\u001b[0m\u001b[0;34m*\u001b[0m\u001b[0margs\u001b[0m\u001b[0;34m,\u001b[0m \u001b[0;34m**\u001b[0m\u001b[0mkwds\u001b[0m\u001b[0;34m)\u001b[0m\u001b[0;34m\u001b[0m\u001b[0;34m\u001b[0m\u001b[0m\n\u001b[0m\u001b[1;32m    458\u001b[0m \u001b[0;34m\u001b[0m\u001b[0m\n\u001b[1;32m    459\u001b[0m     \u001b[0;32mreturn\u001b[0m \u001b[0mwrapper\u001b[0m\u001b[0;34m\u001b[0m\u001b[0;34m\u001b[0m\u001b[0m\n",
      "\u001b[0;32m~/anaconda3/lib/python3.9/site-packages/fiona/__init__.py\u001b[0m in \u001b[0;36mopen\u001b[0;34m(fp, mode, driver, schema, crs, encoding, layer, vfs, enabled_drivers, crs_wkt, allow_unsupported_drivers, **kwargs)\u001b[0m\n\u001b[1;32m    290\u001b[0m \u001b[0;34m\u001b[0m\u001b[0m\n\u001b[1;32m    291\u001b[0m         \u001b[0;32mif\u001b[0m \u001b[0mmode\u001b[0m \u001b[0;32min\u001b[0m \u001b[0;34m(\u001b[0m\u001b[0;34m\"a\"\u001b[0m\u001b[0;34m,\u001b[0m \u001b[0;34m\"r\"\u001b[0m\u001b[0;34m)\u001b[0m\u001b[0;34m:\u001b[0m\u001b[0;34m\u001b[0m\u001b[0;34m\u001b[0m\u001b[0m\n\u001b[0;32m--> 292\u001b[0;31m             colxn = Collection(\n\u001b[0m\u001b[1;32m    293\u001b[0m                 \u001b[0mpath\u001b[0m\u001b[0;34m,\u001b[0m\u001b[0;34m\u001b[0m\u001b[0;34m\u001b[0m\u001b[0m\n\u001b[1;32m    294\u001b[0m                 \u001b[0mmode\u001b[0m\u001b[0;34m,\u001b[0m\u001b[0;34m\u001b[0m\u001b[0;34m\u001b[0m\u001b[0m\n",
      "\u001b[0;32m~/anaconda3/lib/python3.9/site-packages/fiona/collection.py\u001b[0m in \u001b[0;36m__init__\u001b[0;34m(self, path, mode, driver, schema, crs, encoding, layer, vsi, archive, enabled_drivers, crs_wkt, ignore_fields, ignore_geometry, include_fields, wkt_version, allow_unsupported_drivers, **kwargs)\u001b[0m\n\u001b[1;32m    241\u001b[0m             \u001b[0;32mif\u001b[0m \u001b[0mself\u001b[0m\u001b[0;34m.\u001b[0m\u001b[0mmode\u001b[0m \u001b[0;34m==\u001b[0m \u001b[0;34m\"r\"\u001b[0m\u001b[0;34m:\u001b[0m\u001b[0;34m\u001b[0m\u001b[0;34m\u001b[0m\u001b[0m\n\u001b[1;32m    242\u001b[0m                 \u001b[0mself\u001b[0m\u001b[0;34m.\u001b[0m\u001b[0msession\u001b[0m \u001b[0;34m=\u001b[0m \u001b[0mSession\u001b[0m\u001b[0;34m(\u001b[0m\u001b[0;34m)\u001b[0m\u001b[0;34m\u001b[0m\u001b[0;34m\u001b[0m\u001b[0m\n\u001b[0;32m--> 243\u001b[0;31m                 \u001b[0mself\u001b[0m\u001b[0;34m.\u001b[0m\u001b[0msession\u001b[0m\u001b[0;34m.\u001b[0m\u001b[0mstart\u001b[0m\u001b[0;34m(\u001b[0m\u001b[0mself\u001b[0m\u001b[0;34m,\u001b[0m \u001b[0;34m**\u001b[0m\u001b[0mkwargs\u001b[0m\u001b[0;34m)\u001b[0m\u001b[0;34m\u001b[0m\u001b[0;34m\u001b[0m\u001b[0m\n\u001b[0m\u001b[1;32m    244\u001b[0m             \u001b[0;32melif\u001b[0m \u001b[0mself\u001b[0m\u001b[0;34m.\u001b[0m\u001b[0mmode\u001b[0m \u001b[0;32min\u001b[0m \u001b[0;34m(\u001b[0m\u001b[0;34m\"a\"\u001b[0m\u001b[0;34m,\u001b[0m \u001b[0;34m\"w\"\u001b[0m\u001b[0;34m)\u001b[0m\u001b[0;34m:\u001b[0m\u001b[0;34m\u001b[0m\u001b[0;34m\u001b[0m\u001b[0m\n\u001b[1;32m    245\u001b[0m                 \u001b[0mself\u001b[0m\u001b[0;34m.\u001b[0m\u001b[0msession\u001b[0m \u001b[0;34m=\u001b[0m \u001b[0mWritingSession\u001b[0m\u001b[0;34m(\u001b[0m\u001b[0;34m)\u001b[0m\u001b[0;34m\u001b[0m\u001b[0;34m\u001b[0m\u001b[0m\n",
      "\u001b[0;32mfiona/ogrext.pyx\u001b[0m in \u001b[0;36mfiona.ogrext.Session.start\u001b[0;34m()\u001b[0m\n",
      "\u001b[0;32mfiona/ogrext.pyx\u001b[0m in \u001b[0;36mfiona.ogrext.gdal_open_vector\u001b[0;34m()\u001b[0m\n",
      "\u001b[0;31mDriverError\u001b[0m: ne_10m_admin_0_countries.shp: No such file or directory"
     ]
    }
   ],
   "source": [
    "# Plot maps\n",
    "\n",
    "# Parameters\n",
    "xlims = (-0.865e7, -0.705e7)\n",
    "ylims = (-7.8e6, -1.8e6)\n",
    "fig_h = 9.5\n",
    "columns = [\"TOTAL (MILES)\", \"EDAD MEDIA\", \"URBANO-RURAL\"]\n",
    "ax_titles = [\"Población (miles)\", \"Edad media\", \"Ratio urbano/rural\"]\n",
    "cmaps = [\"Reds\", \"Greens\", \"Blues\"]\n",
    "\n",
    "fig_w = 1.05*fig_h*(np.diff(xlims)/np.diff(ylims))[0]\n",
    "\n",
    "\n",
    "# Prepare maps\n",
    "gdf_census = gdf_census.to_crs(epsg=900913) # Use Mercator projection\n",
    "# Base world map\n",
    "world = gpd.read_file(os.path.join(datafolder, \"ne_10m_admin_0_countries.shp\"))\n",
    "world = world.to_crs(gdf_census.crs)\n",
    "\n",
    "# Init plot\n",
    "fig, axs = plt.subplots(\n",
    "        ncols=3, figsize=(4*fig_w, fig_h),\n",
    "        gridspec_kw=dict(hspace=0.5, top=0.9, bottom=0.05, left=0.05, right=0.95))\n",
    "\n",
    "# Iterate over maps\n",
    "axins_list = list()\n",
    "for column, ax_title, cmap, ax in zip(columns, ax_titles, cmaps, axs):\n",
    "    ax.set_title(ax_title, fontsize=15, ha=\"center\")\n",
    "    \n",
    "    # Plot world map in the background\n",
    "    world.plot(ax=ax, color='#E5E5E5', edgecolor='None', figsize=(fig_w, fig_h))\n",
    "    \n",
    "    # Create inset axes\n",
    "    axins_xlim = (-8e6, -7.8e6)\n",
    "    axins_ylim = (-4.07e6, -3.85e6)\n",
    "    axins_w = 0.58\n",
    "    axins_h = axins_w*(axins_ylim[1]-axins_ylim[0])/(axins_xlim[1]-axins_xlim[0])\n",
    "    axins = ax.inset_axes(\n",
    "        [0.46, 0.1, axins_w, axins_h], xlim=axins_xlim, ylim=axins_ylim)\n",
    "    axins_list.append(axins)\n",
    "\n",
    "    # Plot data\n",
    "    for ax1 in (ax, axins):\n",
    "        if ax1 == ax:\n",
    "            legend_kwargs = dict(legend=True)\n",
    "        else:\n",
    "            legend_kwargs = dict()\n",
    "\n",
    "        gdf_census.plot(\n",
    "                ax=ax1,\n",
    "                column=column,\n",
    "                cmap=cmap, \n",
    "                **legend_kwargs\n",
    "                )\n",
    "        \n",
    "    # Write city labels\n",
    "    ax.text(-8.58e6, -2.8e6, \"Antofagasta\")\n",
    "    ax.text(-8.55e6, -3.5e6, \"La Serena\")\n",
    "    ax.text(-8.63e6, -4.73e6, \"Temuco\")\n",
    "    ax.text(-8.4e6, -7.35e6, \"Punta\\n Arenas\", ha=\"center\")\n",
    "    axins.annotate(\"Valparaíso\", [-7.96e6, -3.89e6], xytext=[-7.97e6, -3.83e6], arrowprops=dict(arrowstyle=\"-\"))\n",
    "    axins.annotate(\"Santiago\", [-7.89e6, -3.988e6], xytext=[-7.99e6, -4.11e6], arrowprops=dict(arrowstyle=\"-\"))\n",
    "\n",
    "    # Hide ticks\n",
    "    ax.xaxis.set_ticks([])\n",
    "    ax.yaxis.set_ticks([])\n",
    "    axins.xaxis.set_ticks([])\n",
    "    axins.yaxis.set_ticks([])\n",
    "\n",
    "    # Set xlims\n",
    "    ax.set_xlim(*xlims)\n",
    "    ax.set_ylim(*ylims)\n",
    "\n",
    "    ax.indicate_inset_zoom(axins, edgecolor=\"black\")\n",
    "    \n",
    "# Figure title\n",
    "fig.suptitle(\"Censo Chile 2017\", fontsize=17)"
   ]
  },
  {
   "cell_type": "code",
   "execution_count": null,
   "metadata": {
    "tags": []
   },
   "outputs": [],
   "source": [
    "fig.savefig(\"chile_census2017.png\", dpi=350)"
   ]
  },
  {
   "cell_type": "code",
   "execution_count": null,
   "metadata": {},
   "outputs": [],
   "source": []
  }
 ],
 "metadata": {
  "kernelspec": {
   "display_name": "Python 3",
   "language": "python",
   "name": "python3"
  },
  "language_info": {
   "codemirror_mode": {
    "name": "ipython",
    "version": 3
   },
   "file_extension": ".py",
   "mimetype": "text/x-python",
   "name": "python",
   "nbconvert_exporter": "python",
   "pygments_lexer": "ipython3",
   "version": "3.9.12"
  }
 },
 "nbformat": 4,
 "nbformat_minor": 4
}
